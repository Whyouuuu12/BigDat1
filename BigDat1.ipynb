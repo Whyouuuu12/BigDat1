{
 "cells": [
  {
   "cell_type": "markdown",
   "id": "10c25d6f",
   "metadata": {
    "id": "10c25d6f"
   },
   "source": [
    "# Hands-On Pertemuan 1: Pengenalan Big Data dan Overview Teknologi"
   ]
  },
  {
   "cell_type": "markdown",
   "id": "7117dfdb",
   "metadata": {
    "id": "7117dfdb"
   },
   "source": [
    "## Tujuan\n",
    "Pada akhir praktikum ini, mahasiswa diharapkan mampu:\n",
    "1. Memahami konsep dasar Big Data.\n",
    "2. Menjelaskan karakteristik dan tantangan Big Data (Volume, Variety, Velocity, dan Veracity).\n",
    "3. Mengenal teknologi yang digunakan dalam ekosistem Big Data.\n",
    "4. Menginstal dan mengonfigurasi Anaconda untuk bekerja dengan alat Big Data seperti Hadoop dan Spark.\n",
    "5. Memulai praktik sederhana terkait pengolahan data menggunakan PySpark dan Pandas."
   ]
  },
  {
   "cell_type": "markdown",
   "id": "7e805141",
   "metadata": {
    "id": "7e805141"
   },
   "source": [
    "## Peralatan yang Dibutuhkan\n",
    "1. Anaconda (untuk manajemen lingkungan)\n",
    "2. Jupyter Notebook (bawaan dari Anaconda)\n",
    "3. PySpark (untuk pemrosesan data skala besar)\n",
    "4. Pandas (untuk data analysis)\n",
    "5. Python (bawaan dari Anaconda)"
   ]
  },
  {
   "cell_type": "code",
   "execution_count": null,
   "id": "3xmH7-KgH-TH",
   "metadata": {
    "id": "3xmH7-KgH-TH"
   },
   "outputs": [],
   "source": [
    "from pyspark.sql import SparkSession\n",
    "\n",
    "# Memulai Spark session\n",
    "spark = SparkSession.builder.appName(\"BigDataPractice\").getOrCreate()\n",
    "\n",
    "# Membuat DataFrame dengan kolom tambahan\n",
    "data = [\n",
    "    (\"Ali\", 34, \"Engineer\", \"Bersepeda\", \"Laki-laki\"),\n",
    "    (\"Budi\", 23, \"Dokter\", \"Memasak\", \"Laki-laki\"),\n",
    "    (\"Citra\", 29, \"Guru\", \"Membaca\", \"Perempuan\"),\n",
    "    (\"Dina\", 45, \"Pengacara\", \"Berkebun\", \"Perempuan\")\n",
    "]\n",
    "columns = [\"Nama\", \"Usia\", \"Pekerjaan\", \"Hobi\", \"Gender\"]\n",
    "df = spark.createDataFrame(data, columns)\n",
    "\n",
    "# Menampilkan DataFrame\n",
    "df.show()\n"
   ]
  },
  {
   "cell_type": "markdown",
   "id": "8daa78a0",
   "metadata": {
    "id": "8daa78a0"
   },
   "source": [
    "## Langkah-Langkah Hands-On"
   ]
  },
  {
   "cell_type": "markdown",
   "id": "23b963c0",
   "metadata": {
    "id": "23b963c0"
   },
   "source": [
    "### 1. Instalasi Anaconda\n",
    "- **Langkah 1: Unduh dan Instal Anaconda**\n",
    "  Anaconda adalah platform distribusi Python yang menyertakan berbagai alat pengembangan, termasuk Jupyter Notebook. Ikuti langkah-langkah instalasi sesuai sistem operasi:\n",
    "  - Unduh Anaconda: [Download Anaconda](https://www.anaconda.com/products/individual)\n",
    "  - Instal sesuai instruksi yang ada di situs web tersebut (Windows/Mac/Linux).\n",
    "\n",
    "- **Langkah 2: Menginstal PySpark di Anaconda**\n",
    "  Setelah Anaconda terinstal, tambahkan PySpark:\n",
    "  ```bash\n",
    "  pip install pyspark==3.4.1\n",
    "  ```\n",
    "\n",
    "- **Langkah 3: Menginstal Pandas**\n",
    "  Untuk memudahkan data analysis, install Pandas:\n",
    "  ```bash\n",
    "  pip install pandas\n",
    "  ```\n",
    "\n",
    "- **Langkah 4: Menginstal Findspark**\n",
    "  ```bash\n",
    "  pip install findspark\n",
    "  ```"
   ]
  },
  {
   "cell_type": "markdown",
   "id": "208f1a45",
   "metadata": {
    "id": "208f1a45"
   },
   "source": [
    "### 2. Pengenalan dan Praktik Dasar PySpark dan Pandas\n",
    "- **Langkah 1: Membuka Jupyter Notebook**\n",
    "  Setelah instalasi selesai, buka Jupyter Notebook melalui Anaconda Navigator atau melalui terminal dengan perintah:\n",
    "  ```bash\n",
    "  jupyter notebook\n",
    "  ```\n",
    "\n",
    "- **Langkah 2: Membuat Project Notebook Baru**\n",
    "  Di Jupyter Notebook, buat notebook baru untuk praktikum ini.\n",
    "\n",
    "- **Langkah 3: Praktik dengan PySpark**\n",
    "  Buat program sederhana untuk memulai dengan PySpark. Gunakan PySpark untuk membuat DataFrame dan memanipulasi data sederhana:"
   ]
  },
  {
   "cell_type": "code",
   "execution_count": 1,
   "id": "KERSZShIH_aN",
   "metadata": {
    "id": "KERSZShIH_aN"
   },
   "outputs": [],
   "source": [
    "import findspark\n",
    "findspark.init()"
   ]
  },
  {
   "cell_type": "code",
   "execution_count": 2,
   "id": "f78a5053",
   "metadata": {
    "id": "f78a5053"
   },
   "outputs": [
    {
     "name": "stdout",
     "output_type": "stream",
     "text": [
      "+-----+----+---------+---------+---------+\n",
      "| Nama|Usia|Pekerjaan|     Hobi|   Gender|\n",
      "+-----+----+---------+---------+---------+\n",
      "|  Ali|  34| Engineer|Bersepeda|Laki-laki|\n",
      "| Budi|  23|   Dokter|  Memasak|Laki-laki|\n",
      "|Citra|  29|     Guru|  Membaca|Perempuan|\n",
      "| Dina|  45|Pengacara| Berkebun|Perempuan|\n",
      "+-----+----+---------+---------+---------+\n",
      "\n"
     ]
    }
   ],
   "source": [
    "from pyspark.sql import SparkSession\n",
    "\n",
    "# Memulai Spark session\n",
    "spark = SparkSession.builder.appName(\"BigDataPractice\").getOrCreate()\n",
    "\n",
    "# Membuat DataFrame dengan kolom tambahan\n",
    "data = [\n",
    "    (\"Ali\", 34, \"Engineer\", \"Bersepeda\", \"Laki-laki\"),\n",
    "    (\"Budi\", 23, \"Dokter\", \"Memasak\", \"Laki-laki\"),\n",
    "    (\"Citra\", 29, \"Guru\", \"Membaca\", \"Perempuan\"),\n",
    "    (\"Dina\", 45, \"Pengacara\", \"Berkebun\", \"Perempuan\")\n",
    "]\n",
    "columns = [\"Nama\", \"Usia\", \"Pekerjaan\", \"Hobi\", \"Gender\"]\n",
    "df = spark.createDataFrame(data, columns)\n",
    "\n",
    "# Menampilkan DataFrame\n",
    "df.show()\n"
   ]
  },
  {
   "cell_type": "markdown",
   "id": "8747276f",
   "metadata": {
    "id": "8747276f"
   },
   "source": [
    "- **Tugas 1**: Jalankan kode di atas dan buat modifikasi dengan menambahkan data lain berupa kolom pekerjaan, hobi dan gender."
   ]
  },
  {
   "cell_type": "code",
   "execution_count": null,
   "id": "20aafd21-f67d-487e-9159-588c0f76d524",
   "metadata": {},
   "outputs": [],
   "source": [
    "#Tugas1\n",
    "from pyspark.sql import SparkSession\n",
    "\n",
    "# Memulai Spark session\n",
    "spark = SparkSession.builder.appName(\"BigDataPractice\").getOrCreate()\n",
    "\n",
    "# Membuat DataFrame dengan kolom tambahan\n",
    "data = [\n",
    "    (\"Ali\", 34, \"Engineer\", \"Bersepeda\", \"Laki-laki\"),\n",
    "    (\"Budi\", 23, \"Dokter\", \"Memasak\", \"Laki-laki\"),\n",
    "    (\"Citra\", 29, \"Guru\", \"Membaca\", \"Perempuan\"),\n",
    "    (\"Dina\", 45, \"Pengacara\", \"Berkebun\", \"Perempuan\")\n",
    "]\n",
    "columns = [\"Nama\", \"Usia\", \"Pekerjaan\", \"Hobi\", \"Gender\"]\n",
    "df = spark.createDataFrame(data, columns)\n",
    "\n",
    "# Menampilkan DataFrame\n",
    "df.show()\n"
   ]
  },
  {
   "cell_type": "markdown",
   "id": "1f84a333",
   "metadata": {
    "id": "1f84a333"
   },
   "source": [
    "### 3. Praktik PySpark Lanjutan\n",
    "- **Latihan 1**: Memanipulasi Data dengan PySpark."
   ]
  },
  {
   "cell_type": "code",
   "execution_count": 7,
   "id": "1f391ed5",
   "metadata": {
    "id": "1f391ed5"
   },
   "outputs": [
    {
     "name": "stdout",
     "output_type": "stream",
     "text": [
      "+-----+----+---------+---------+---------+\n",
      "| Nama|Usia|Pekerjaan|     Hobi|   Gender|\n",
      "+-----+----+---------+---------+---------+\n",
      "|  Ali|  34| Engineer|Bersepeda|Laki-laki|\n",
      "| Budi|  23|   Dokter|  Memasak|Laki-laki|\n",
      "|Citra|  29|     Guru|  Membaca|Perempuan|\n",
      "| Dina|  45|Pengacara| Berkebun|Perempuan|\n",
      "+-----+----+---------+---------+---------+\n",
      "\n",
      "+----+----+---------+---------+---------+\n",
      "|Nama|Usia|Pekerjaan|     Hobi|   Gender|\n",
      "+----+----+---------+---------+---------+\n",
      "| Ali|  34| Engineer|Bersepeda|Laki-laki|\n",
      "|Dina|  45|Pengacara| Berkebun|Perempuan|\n",
      "+----+----+---------+---------+---------+\n",
      "\n",
      "+---------+\n",
      "|avg(Usia)|\n",
      "+---------+\n",
      "|    32.75|\n",
      "+---------+\n",
      "\n",
      "+-----+----+---------+---------+---------+\n",
      "| Nama|Usia|Pekerjaan|     Hobi|   Gender|\n",
      "+-----+----+---------+---------+---------+\n",
      "| Dina|  45|Pengacara| Berkebun|Perempuan|\n",
      "|  Ali|  34| Engineer|Bersepeda|Laki-laki|\n",
      "|Citra|  29|     Guru|  Membaca|Perempuan|\n",
      "| Budi|  23|   Dokter|  Memasak|Laki-laki|\n",
      "+-----+----+---------+---------+---------+\n",
      "\n",
      "+-----+----+---------+--------+---------+\n",
      "| Nama|Usia|Pekerjaan|    Hobi|   Gender|\n",
      "+-----+----+---------+--------+---------+\n",
      "|Citra|  29|     Guru| Membaca|Perempuan|\n",
      "| Dina|  45|Pengacara|Berkebun|Perempuan|\n",
      "+-----+----+---------+--------+---------+\n",
      "\n",
      "+----+----+---------+---------+---------+\n",
      "|Nama|Usia|Pekerjaan|     Hobi|   Gender|\n",
      "+----+----+---------+---------+---------+\n",
      "| Ali|  34| Engineer|Bersepeda|Laki-laki|\n",
      "|Budi|  23|   Dokter|  Memasak|Laki-laki|\n",
      "+----+----+---------+---------+---------+\n",
      "\n"
     ]
    }
   ],
   "source": [
    "from pyspark.sql import SparkSession\n",
    "\n",
    "# Memulai Spark session\n",
    "spark = SparkSession.builder.appName(\"BigDataPractice\").getOrCreate()\n",
    "\n",
    "# Membuat DataFrame dengan kolom tambahan\n",
    "data = [\n",
    "    (\"Ali\", 34, \"Engineer\", \"Bersepeda\", \"Laki-laki\"),\n",
    "    (\"Budi\", 23, \"Dokter\", \"Memasak\", \"Laki-laki\"),\n",
    "    (\"Citra\", 29, \"Guru\", \"Membaca\", \"Perempuan\"),\n",
    "    (\"Dina\", 45, \"Pengacara\", \"Berkebun\", \"Perempuan\")\n",
    "]\n",
    "columns = [\"Nama\", \"Usia\", \"Pekerjaan\", \"Hobi\", \"Gender\"]\n",
    "df = spark.createDataFrame(data, columns)\n",
    "\n",
    "# Menampilkan DataFrame\n",
    "df.show()\n",
    "# Filtering data\n",
    "df_filtered = df.filter(df['Usia'] > 30)\n",
    "df_filtered.show()\n",
    "\n",
    "# Menghitung rata-rata usia\n",
    "from pyspark.sql.functions import avg\n",
    "df.groupBy().agg(avg(\"Usia\")).show()\n",
    "\n",
    "# Mengurutkan data berdasarkan usia\n",
    "df_sorted = df.orderBy(\"Usia\", ascending=False)\n",
    "df_sorted.show()\n",
    "#Memfilter data berdasarkan jenis kelaminnya\n",
    "df_filtered = df.filter(df[\"Gender\"] == \"Perempuan\")\n",
    "df_filtered.show()\n",
    "df_filtered = df.filter(df[\"Gender\"] == \"Laki-laki\")\n",
    "df_filtered.show()"
   ]
  },
  {
   "cell_type": "markdown",
   "id": "e06767bc",
   "metadata": {
    "id": "e06767bc"
   },
   "source": [
    "- **Tugas 2**: Lakukan filter, penghitungan rata-rata, dan pengurutan data menggunakan PySpark."
   ]
  },
  {
   "cell_type": "code",
   "execution_count": null,
   "id": "09bb899d-c3db-49a8-9cc4-218bb1960586",
   "metadata": {},
   "outputs": [],
   "source": [
    "#Tugas2\n",
    "from pyspark.sql import SparkSession\n",
    "\n",
    "# Memulai Spark session\n",
    "spark = SparkSession.builder.appName(\"BigDataPractice\").getOrCreate()\n",
    "\n",
    "# Membuat DataFrame dengan kolom tambahan\n",
    "data = [\n",
    "    (\"Ali\", 34, \"Engineer\", \"Bersepeda\", \"Laki-laki\"),\n",
    "    (\"Budi\", 23, \"Dokter\", \"Memasak\", \"Laki-laki\"),\n",
    "    (\"Citra\", 29, \"Guru\", \"Membaca\", \"Perempuan\"),\n",
    "    (\"Dina\", 45, \"Pengacara\", \"Berkebun\", \"Perempuan\")\n",
    "]\n",
    "columns = [\"Nama\", \"Usia\", \"Pekerjaan\", \"Hobi\", \"Gender\"]\n",
    "df = spark.createDataFrame(data, columns)\n",
    "\n",
    "# Menampilkan DataFrame\n",
    "df.show()\n",
    "# Filtering data\n",
    "df_filtered = df.filter(df['Usia'] > 30)\n",
    "df_filtered.show()\n",
    "\n",
    "# Menghitung rata-rata usia\n",
    "from pyspark.sql.functions import avg\n",
    "df.groupBy().agg(avg(\"Usia\")).show()\n",
    "\n",
    "# Mengurutkan data berdasarkan usia\n",
    "df_sorted = df.orderBy(\"Usia\", ascending=False)\n",
    "df_sorted.show()\n",
    "#Memfilter data berdasarkan jenis kelaminnya\n",
    "df_filtered = df.filter(df[\"Gender\"] == \"Perempuan\")\n",
    "df_filtered.show()\n",
    "df_filtered = df.filter(df[\"Gender\"] == \"Laki-laki\")\n",
    "df_filtered.show()"
   ]
  },
  {
   "cell_type": "markdown",
   "id": "fe1e34a5",
   "metadata": {
    "id": "fe1e34a5"
   },
   "source": [
    "### 4. Praktik dengan Pandas\n",
    "- **Latihan 2**:  Buat DataFrame menggunakan Pandas:"
   ]
  },
  {
   "cell_type": "code",
   "execution_count": 8,
   "id": "3f1f2ec1",
   "metadata": {
    "id": "3f1f2ec1"
   },
   "outputs": [
    {
     "name": "stdout",
     "output_type": "stream",
     "text": [
      "DataFrame Pandas yang Dimodifikasi:\n",
      "    Nama  Usia  Pekerjaan\n",
      "0    Ali    34   Engineer\n",
      "1   Budi    23     Dokter\n",
      "2  Citra    29       Guru\n",
      "3   Dina    45  Pengacara\n",
      "\n",
      "DataFrame Pandas Setelah Filtering:\n",
      "   Nama  Usia  Pekerjaan\n",
      "0   Ali    34   Engineer\n",
      "3  Dina    45  Pengacara\n"
     ]
    }
   ],
   "source": [
    "import pandas as pd\n",
    "\n",
    "# Membuat DataFrame Pandas\n",
    "data_pandas = {\"Nama\": [\"Ali\", \"Budi\", \"Citra\", \"Dina\"], \"Usia\": [34, 23, 29, 45]}\n",
    "df_pandas = pd.DataFrame(data_pandas)\n",
    "\n",
    "# Menampilkan DataFrame Pandas\n",
    "df_pandas\n",
    "\n",
    "# Menambahkan kolom Pekerjaan\n",
    "df_pandas[\"Pekerjaan\"] = [\"Engineer\", \"Dokter\", \"Guru\", \"Pengacara\"]\n",
    "\n",
    "# Filtering data dengan Usia di atas 30 tahun\n",
    "df_filtered_pandas = df_pandas[df_pandas[\"Usia\"] > 30]\n",
    "\n",
    "# Menampilkan DataFrame yang dimodifikasi\n",
    "print(\"DataFrame Pandas yang Dimodifikasi:\")\n",
    "print(df_pandas)\n",
    "print(\"\\nDataFrame Pandas Setelah Filtering:\")\n",
    "print(df_filtered_pandas)\n"
   ]
  },
  {
   "cell_type": "markdown",
   "id": "9da455f1",
   "metadata": {
    "id": "9da455f1"
   },
   "source": [
    "- **Tugas 3**: Modifikasi DataFrame Pandas dengan menambahkan kolom baru dan melakukan operasi seperti filtering data berdasarkan usia."
   ]
  },
  {
   "cell_type": "code",
   "execution_count": null,
   "id": "ce326efc-2f7b-43a9-b26f-af643d6ed26f",
   "metadata": {},
   "outputs": [],
   "source": [
    "import pandas as pd\n",
    "\n",
    "# Membuat DataFrame Pandas\n",
    "data_pandas = {\"Nama\": [\"Ali\", \"Budi\", \"Citra\", \"Dina\"], \"Usia\": [34, 23, 29, 45]}\n",
    "df_pandas = pd.DataFrame(data_pandas)\n",
    "\n",
    "# Menampilkan DataFrame Pandas\n",
    "df_pandas\n",
    "\n",
    "# Menambahkan kolom Pekerjaan\n",
    "df_pandas[\"Pekerjaan\"] = [\"Engineer\", \"Dokter\", \"Guru\", \"Pengacara\"]\n",
    "\n",
    "# Filtering data dengan Usia di atas 30 tahun\n",
    "df_filtered_pandas = df_pandas[df_pandas[\"Usia\"] > 30]\n",
    "\n",
    "# Menampilkan DataFrame yang dimodifikasi\n",
    "print(\"DataFrame Pandas yang Dimodifikasi:\")\n",
    "print(df_pandas)\n",
    "print(\"\\nDataFrame Pandas Setelah Filtering:\")\n",
    "print(df_filtered_pandas)\n"
   ]
  },
  {
   "cell_type": "markdown",
   "id": "c0042b2b",
   "metadata": {
    "id": "c0042b2b"
   },
   "source": [
    "### 5. Praktik Pandas Lanjutan\n",
    "- **Latihan 3**: Penggunaan Pandas untuk operasi lebih kompleks."
   ]
  },
  {
   "cell_type": "code",
   "execution_count": null,
   "id": "e7a8142f",
   "metadata": {
    "id": "e7a8142f"
   },
   "outputs": [],
   "source": [
    "import pandas as pd\n",
    "\n",
    "# Membuat DataFrame Pandas\n",
    "data_pandas = {\"Nama\": [\"Ali\", \"Budi\", \"Citra\", \"Dina\"], \"Usia\": [34, 23, 29, 45]}\n",
    "df_pandas = pd.DataFrame(data_pandas)\n",
    "\n",
    "# Membuat DataFrame kedua\n",
    "data_pandas_2 = {\"Nama\": [\"Ali\", \"Budi\", \"Citra\", \"Dina\"], \"Pekerjaan\": [\"Dokter\", \"Guru\", \"Insinyur\", \"Perawat\"]}\n",
    "df_pandas_2 = pd.DataFrame(data_pandas_2)\n",
    "\n",
    "# Join antara dua DataFrame\n",
    "df_joined = pd.merge(df_pandas, df_pandas_2, on=\"Nama\")\n",
    "print(df_joined)\n",
    "\n",
    "# Menghitung statistik deskriptif\n",
    "print(df_pandas.describe())\n",
    "\n",
    "# Plotting Data\n",
    "import matplotlib.pyplot as plt\n",
    "df_pandas['Usia'].plot(kind='bar')\n",
    "plt.show()\n",
    "\n"
   ]
  },
  {
   "cell_type": "markdown",
   "id": "884ed75d",
   "metadata": {
    "id": "884ed75d"
   },
   "source": [
    "- **Tugas 4**: Lakukan penggabungan DataFrame dan visualisasikan data dengan Pandas."
   ]
  },
  {
   "cell_type": "code",
   "execution_count": null,
   "id": "2984b8c4-4bd4-477c-a96e-47a563e305c4",
   "metadata": {},
   "outputs": [],
   "source": [
    "#Tugas 4\n",
    "from pyspark.sql import SparkSession\n",
    "import pandas as pd\n",
    "\n",
    "# Memulai Spark session\n",
    "spark = SparkSession.builder.appName(\"BigDataPractice\").getOrCreate()\n",
    "\n",
    "# Membuat DataFrame PySpark\n",
    "data_spark = [\n",
    "    (\"Ali\", 34, \"Engineer\", \"Bersepeda\", \"Laki-laki\"),\n",
    "    (\"Budi\", 23, \"Dokter\", \"Memasak\", \"Laki-laki\"),\n",
    "    (\"Citra\", 29, \"Guru\", \"Membaca\", \"Perempuan\"),\n",
    "    (\"Dina\", 45, \"Pengacara\", \"Berkebun\", \"Perempuan\")\n",
    "]\n",
    "columns = [\"Nama\", \"Usia\", \"Pekerjaan\", \"Hobi\", \"Gender\"]\n",
    "df_spark = spark.createDataFrame(data_spark, columns)\n",
    "\n",
    "# Membuat DataFrame Pandas\n",
    "data_pandas = {\"Nama\": [\"Ali\", \"Budi\", \"Citra\", \"Dina\"], \"Usia\": [34, 23, 29, 45]}\n",
    "df_pandas = pd.DataFrame(data_pandas)\n",
    "df_pandas[\"Pekerjaan\"] = [\"Engineer\", \"Dokter\", \"Guru\", \"Pengacara\"]\n",
    "# Mengonversi DataFrame PySpark ke Pandas\n",
    "df_pandas_from_spark = df_spark.toPandas()\n",
    "\n",
    "# Menggabungkan DataFrame Pandas dari PySpark dan DataFrame Pandas asli\n",
    "df_combined_pandas = pd.concat([df_pandas_from_spark, df_pandas], ignore_index=True)\n",
    "\n",
    "# Menampilkan DataFrame gabungan\n",
    "print(\"DataFrame Gabungan Pandas:\")\n",
    "print(df_combined_pandas)\n"
   ]
  },
  {
   "cell_type": "markdown",
   "id": "bf671ba3",
   "metadata": {
    "id": "bf671ba3"
   },
   "source": [
    "### 5. Menggabungkan PySpark dan Pandas\n",
    "- **Latihan 4: Mengonversi DataFrame antara PySpark dan Pandas**\n",
    "  Praktik untuk convert DataFrame dari PySpark ke Pandas dan sebaliknya:\n"
   ]
  },
  {
   "cell_type": "code",
   "execution_count": null,
   "id": "337e123f",
   "metadata": {
    "id": "337e123f"
   },
   "outputs": [],
   "source": [
    "from pyspark.sql import SparkSession\n",
    "\n",
    "# Memulai Spark session\n",
    "spark = SparkSession.builder.appName(\"BigDataPractice\").getOrCreate()\n",
    "\n",
    "# Membuat DataFrame dengan kolom tambahan\n",
    "data = [\n",
    "    (\"Ali\", 34, \"Engineer\", \"Bersepeda\", \"Laki-laki\"),\n",
    "    (\"Budi\", 23, \"Dokter\", \"Memasak\", \"Laki-laki\"),\n",
    "    (\"Citra\", 29, \"Guru\", \"Membaca\", \"Perempuan\"),\n",
    "    (\"Dina\", 45, \"Pengacara\", \"Berkebun\", \"Perempuan\")\n",
    "]\n",
    "columns = [\"Nama\", \"Usia\", \"Pekerjaan\", \"Hobi\", \"Gender\"]\n",
    "df_spark = spark.createDataFrame(data, columns)\n",
    "\n",
    "# Menampilkan DataFrame PySpark\n",
    "df_spark.show()\n",
    "import pandas as pd\n",
    "\n",
    "# Membuat DataFrame Pandas\n",
    "data_pandas = {\"Nama\": [\"Ali\", \"Budi\", \"Citra\", \"Dina\"], \"Usia\": [34, 23, 29, 45]}\n",
    "df_pandas = pd.DataFrame(data_pandas)\n",
    "\n",
    "# Menambahkan kolom Pekerjaan\n",
    "df_pandas[\"Pekerjaan\"] = [\"Engineer\", \"Dokter\", \"Guru\", \"Pengacara\"]\n",
    "\n",
    "# Filtering data dengan Usia di atas 30 tahun\n",
    "df_filtered_pandas = df_pandas[df_pandas[\"Usia\"] > 30]\n",
    "\n",
    "# Menampilkan DataFrame Pandas yang dimodifikasi\n",
    "print(\"DataFrame Pandas yang Dimodifikasi:\")\n",
    "print(df_pandas)\n",
    "print(\"\\nDataFrame Pandas Setelah Filtering:\")\n",
    "print(df_filtered_pandas)\n",
    "\n"
   ]
  },
  {
   "cell_type": "markdown",
   "id": "2cba4e5c",
   "metadata": {
    "id": "2cba4e5c"
   },
   "source": [
    "- **Tugas 5**: Gunakan metode ini untuk menggabungkan data yang Anda buat di PySpark dengan data dari Pandas, kemudian lakukan analisis sederhana seperti menghitung rata-rata usia."
   ]
  },
  {
   "cell_type": "code",
   "execution_count": null,
   "id": "d2c350c6-7c1f-4bf5-b458-9604764a8e47",
   "metadata": {},
   "outputs": [],
   "source": [
    "from pyspark.sql import SparkSession\n",
    "import pandas as pd\n",
    "\n",
    "# Memulai Spark session\n",
    "spark = SparkSession.builder.appName(\"BigDataPractice\").getOrCreate()\n",
    "\n",
    "# Membuat DataFrame PySpark\n",
    "data_spark = [\n",
    "    (\"Ali\", 34, \"Engineer\", \"Bersepeda\", \"Laki-laki\"),\n",
    "    (\"Budi\", 23, \"Dokter\", \"Memasak\", \"Laki-laki\"),\n",
    "    (\"Citra\", 29, \"Guru\", \"Membaca\", \"Perempuan\"),\n",
    "    (\"Dina\", 45, \"Pengacara\", \"Berkebun\", \"Perempuan\")\n",
    "]\n",
    "columns = [\"Nama\", \"Usia\", \"Pekerjaan\", \"Hobi\", \"Gender\"]\n",
    "df_spark = spark.createDataFrame(data_spark, columns)\n",
    "\n",
    "# Membuat DataFrame Pandas\n",
    "data_pandas = {\"Nama\": [\"Ali\", \"Budi\", \"Citra\", \"Dina\"], \"Usia\": [34, 23, 29, 45]}\n",
    "df_pandas = pd.DataFrame(data_pandas)\n",
    "df_pandas[\"Pekerjaan\"] = [\"Engineer\", \"Dokter\", \"Guru\", \"Pengacara\"]\n",
    "\n",
    "# Mengonversi DataFrame PySpark ke Pandas\n",
    "df_pandas_from_spark = df_spark.toPandas()\n",
    "\n",
    "# Menggabungkan DataFrame Pandas dari PySpark dengan DataFrame Pandas\n",
    "df_combined_pandas = pd.concat([df_pandas_from_spark, df_pandas], ignore_index=True)\n",
    "\n",
    "# Menampilkan DataFrame gabungan\n",
    "print(\"DataFrame Gabungan Pandas:\")\n",
    "print(df_combined_pandas)\n",
    "\n",
    "# Analisis sederhana: Menghitung rata-rata usia\n",
    "average_age = df_combined_pandas['Usia'].mean()\n",
    "print(f\"\\nRata-rata Usia: {average_age}\")\n"
   ]
  },
  {
   "cell_type": "markdown",
   "id": "afdba6be",
   "metadata": {
    "id": "afdba6be"
   },
   "source": [
    "### 6. Konversi Data antara PySpark dan Pandas"
   ]
  },
  {
   "cell_type": "code",
   "execution_count": null,
   "id": "f863defc",
   "metadata": {
    "id": "f863defc"
   },
   "outputs": [],
   "source": [
    "# Mengonversi DataFrame dari PySpark ke Pandas\n",
    "df_pandas_from_spark = df.toPandas()\n",
    "\n",
    "# Mengonversi DataFrame dari Pandas ke PySpark\n",
    "df_spark_from_pandas = spark.createDataFrame(df_pandas)\n",
    "\n",
    "# Menampilkan DataFrame hasil konversi\n",
    "df_pandas_from_spark, df_spark_from_pandas.show()\n"
   ]
  },
  {
   "cell_type": "markdown",
   "id": "65adbe71",
   "metadata": {
    "id": "65adbe71"
   },
   "source": [
    "- **Tugas 6**: Gabungkan data dari PySpark dan Pandas, lalu lakukan operasi statistik seperti menghitung nilai maksimum usia."
   ]
  },
  {
   "cell_type": "code",
   "execution_count": null,
   "id": "2828e127-dba0-4a74-91f4-ef8493949d75",
   "metadata": {},
   "outputs": [],
   "source": [
    "from pyspark.sql import SparkSession\n",
    "import pandas as pd\n",
    "\n",
    "# Memulai Spark session\n",
    "spark = SparkSession.builder.appName(\"BigDataPractice\").getOrCreate()\n",
    "\n",
    "# Membuat DataFrame PySpark\n",
    "data_spark = [\n",
    "    (\"Ali\", 34, \"Engineer\", \"Bersepeda\", \"Laki-laki\"),\n",
    "    (\"Budi\", 23, \"Dokter\", \"Memasak\", \"Laki-laki\"),\n",
    "    (\"Citra\", 29, \"Guru\", \"Membaca\", \"Perempuan\"),\n",
    "    (\"Dina\", 45, \"Pengacara\", \"Berkebun\", \"Perempuan\")\n",
    "]\n",
    "columns = [\"Nama\", \"Usia\", \"Pekerjaan\", \"Hobi\", \"Gender\"]\n",
    "df_spark = spark.createDataFrame(data_spark, columns)\n",
    "\n",
    "# Membuat DataFrame Pandas\n",
    "data_pandas = {\"Nama\": [\"Ali\", \"Budi\", \"Citra\", \"Dina\"], \"Usia\": [34, 23, 29, 45]}\n",
    "df_pandas = pd.DataFrame(data_pandas)\n",
    "df_pandas[\"Pekerjaan\"] = [\"Engineer\", \"Dokter\", \"Guru\", \"Pengacara\"]\n",
    "\n",
    "# Mengonversi DataFrame PySpark ke Pandas\n",
    "df_pandas_from_spark = df_spark.toPandas()\n",
    "\n",
    "# Menggabungkan DataFrame Pandas dari PySpark dengan DataFrame Pandas\n",
    "df_combined_pandas = pd.concat([df_pandas_from_spark, df_pandas], ignore_index=True)\n",
    "\n",
    "# Menampilkan DataFrame gabungan\n",
    "print(\"DataFrame Gabungan Pandas:\")\n",
    "print(df_combined_pandas)\n",
    "\n",
    "# Operasi Statistik: Menghitung nilai maksimum usia\n",
    "max_age = df_combined_pandas['Usia'].max()\n",
    "print(f\"\\nNilai Maksimum Usia: {max_age}\")\n"
   ]
  }
 ],
 "metadata": {
  "colab": {
   "provenance": []
  },
  "kernelspec": {
   "display_name": "Python 3 (ipykernel)",
   "language": "python",
   "name": "python3"
  },
  "language_info": {
   "codemirror_mode": {
    "name": "ipython",
    "version": 3
   },
   "file_extension": ".py",
   "mimetype": "text/x-python",
   "name": "python",
   "nbconvert_exporter": "python",
   "pygments_lexer": "ipython3",
   "version": "3.11.9"
  }
 },
 "nbformat": 4,
 "nbformat_minor": 5
}
